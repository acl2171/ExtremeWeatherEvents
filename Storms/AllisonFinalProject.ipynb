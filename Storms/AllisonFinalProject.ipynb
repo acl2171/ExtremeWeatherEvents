{
 "cells": [
  {
   "cell_type": "markdown",
   "metadata": {},
   "source": [
    "## Outline\n",
    "1. [Problem Statement](#problem-statement)\n",
    "2. [Data Sources](#data-sources)\n",
    "3. [Compile the Dataset](#compile-the-dataset)\n",
    "4. [Summarize the Dataset](#summarize-the-dataset)\n",
    "5. [Address Missing Values](#address-missing-values)\n",
    "6. [Exploratory Analysis](#exploratory-analysis)\n",
    "7. [Feature Engineering](#feature-engineering)\n",
    "8. [Build and Evaluate a Classification Model](#build-a-classification-model)\n",
    "9. [Build and Evaluate a Regression Model](#build-a-regression-model)\n",
    "10. [Feature Selection](#feature-selection)\n",
    "11. [The Regression Model](#regression-model)\n",
    "12. [Interpret Coefficients](#interpret-coefficients)\n",
    "13. [Conclusions and Summary](#conclusions)"
   ]
  },
  {
   "cell_type": "markdown",
   "metadata": {},
   "source": [
    "<a id=\"problem-statement\"></a>\n",
    "## Problem Statement"
   ]
  },
  {
   "cell_type": "markdown",
   "metadata": {},
   "source": [
    "Determine whether there is an association between extreme weather event fatalities and certain storm and location characteristics. Are there specific features that increase the likelihood of fatalities?\n",
    "\n",
    "### Hypothesis\n",
    "\n",
    "The type of storm, magnitude, and extent of property damage are most closely associated with number of fatalities.\n",
    "\n",
    "### Approach\n",
    "\n",
    " - Build a classification model that predicts whether or not a storm event results in fatalities\n",
    " - Then build a regression model that predicts the number of fatalities\n",
    " \n",
    "### Limitations\n",
    "\n",
    " - Missing data that likely influences the outcome includes quality of state emergency response, demographics, number of shelters, etc. \n",
    "\n"
   ]
  },
  {
   "cell_type": "markdown",
   "metadata": {},
   "source": [
    "<a id=\"data-sources\"></a>\n",
    "## Data Sources"
   ]
  },
  {
   "cell_type": "markdown",
   "metadata": {},
   "source": [
    "\n",
    "- [Storm Events Database:](#https://www.ncdc.noaa.gov/stormevents/) NOAA,  (2016 - 2018)\n",
    "  - Extreme weather events\n",
    "  - Fatalities\n",
    "\n",
    "\n",
    "- U.S. Census Bureau\n",
    "  - [State Population](#https://www.census.gov/newsroom/press-kits/2018/pop-estimates-national-state.html) (2015-2018 Annual Average)\n",
    "  - [Age Breakdown](#https://www.census.gov/data/tables/2017/demo/popest/state-detail.html) (percent of population above 18 years)\n",
    "  - [Urban/Rural Breakdown](#https://www.census.gov/geo/reference/ua/urban-rural-2010.html) (percent of population in urban areas)\n",
    "  \n",
    "  \n",
    "- U.S. Bureau of Economic Analysis\n",
    "  - [State GDP](#https://apps.bea.gov/regional/downloadzip.cfm) (Millions of Dollars)\n",
    "\n",
    "\n",
    "- Agnes, Anna R., \"Homeland Security/Emergency Management Budgets by Each U.S. State: Why do some states allocate so much more money than others do?\" (2018). Political Science. 26.\n",
    "  - [FY17 State Budgets for Emergency Management](#https://scholarsarchive.library.albany.edu/cgi/viewcontent.cgi?article=1025&context=honorscollege_pos) (USD)"
   ]
  },
  {
   "cell_type": "code",
   "execution_count": 123,
   "metadata": {},
   "outputs": [],
   "source": [
    "import pandas as pd\n",
    "import numpy as np\n",
    "import matplotlib.pyplot as plt\n",
    "import seaborn as sns\n",
    "from itertools import combinations \n",
    "from sklearn.model_selection import train_test_split\n",
    "from sklearn.linear_model import LinearRegression\n",
    "from sklearn import metrics\n",
    "import random"
   ]
  },
  {
   "cell_type": "markdown",
   "metadata": {},
   "source": [
    "<a id=\"compile-the-dataset\"></a>\n",
    "## The Dataset"
   ]
  },
  {
   "cell_type": "markdown",
   "metadata": {},
   "source": [
    "The dataset is compiled from the above mentioned sources. After addressing null values, there are 158,412 observations, with each observation representing an extreme weather event. The final dataset has 23 features:\n",
    " - State\n",
    " - Year\n",
    " - Month\n",
    " - Event type\n",
    " - Injuries direct\n",
    " - Injuries indirect\n",
    " - Magnitude\n",
    " - Days\n",
    " - Duration (hours)\n",
    " - Budget (USD): State emergency budgets for FY17\n",
    " - Average Annual State Population over years 2016 through 2018\n",
    " - 3 year average: Annual 3 year average state GDP over 2016 through 2018\n",
    " - PCT18+: percent of population above 18 years of age\n",
    " - POPPCT_URBAN: percent of population residing in urban areas\n",
    " - Crop damage (1,000 USD)\n",
    " - Property damage (1,000 USD)\n",
    " - And seven dummy variables representing broader storm event type categories:\n",
    "   - flood_rain\n",
    "   - heat\n",
    "   - ocean\n",
    "   - other\n",
    "   - tropical\n",
    "   - wind_dust\n",
    "   - winter\n",
    "   \n",
    "The following code in this section reads in the different datasets and compiles them into one dataframe. "
   ]
  },
  {
   "cell_type": "code",
   "execution_count": 124,
   "metadata": {},
   "outputs": [
    {
     "data": {
      "text/plain": [
       "(171758, 51)"
      ]
     },
     "execution_count": 124,
     "metadata": {},
     "output_type": "execute_result"
    }
   ],
   "source": [
    "#Read in NOAA data on extreme weather events for years 2016 through 2018\n",
    "storm18 = pd.read_csv('StormEvents_details-ftp_v1.0_d2018_c20190220.csv.gz')\n",
    "storm17 = pd.read_csv('StormEvents_details-ftp_v1.0_d2017_c20181219.csv.gz')\n",
    "storm16 = pd.read_csv('StormEvents_details-ftp_v1.0_d2016_c20180718.csv.gz')\n",
    "df = pd.concat([storm18, storm17, storm16])\n",
    "df.shape"
   ]
  },
  {
   "cell_type": "code",
   "execution_count": 125,
   "metadata": {},
   "outputs": [],
   "source": [
    "# Feature engineering to simplify some columns to Days and Duration columns\n",
    "\n",
    "df['Days'] = abs(df['END_DAY'] - df['BEGIN_DAY'])+1\n",
    "df['Duration'] = abs(df['END_TIME'] - df['BEGIN_TIME'])"
   ]
  },
  {
   "cell_type": "code",
   "execution_count": 126,
   "metadata": {},
   "outputs": [],
   "source": [
    "# Drop a bunch of columns that are repetitive or only apply to a small portion of the dataset\n",
    "x = ['CATEGORY', 'TOR_F_SCALE', 'TOR_LENGTH', 'TOR_WIDTH', 'TOR_OTHER_WFO', 'TOR_OTHER_CZ_STATE', 'TOR_OTHER_CZ_FIPS', 'TOR_OTHER_CZ_NAME', 'FLOOD_CAUSE', 'BEGIN_RANGE', 'BEGIN_AZIMUTH', 'BEGIN_LOCATION','END_RANGE', 'END_AZIMUTH', 'END_LOCATION', 'BEGIN_LAT', 'BEGIN_LON', 'END_LAT', 'END_LON', 'EPISODE_NARRATIVE', 'BEGIN_YEARMONTH','BEGIN_DAY', 'BEGIN_TIME', 'END_YEARMONTH', 'END_DAY', 'END_TIME', 'EPISODE_ID', 'STATE_FIPS', 'CZ_TYPE','CZ_FIPS', 'CZ_NAME', 'WFO', 'BEGIN_DATE_TIME', 'CZ_TIMEZONE', 'END_DATE_TIME','SOURCE', 'MAGNITUDE_TYPE','DATA_SOURCE','EVENT_NARRATIVE']\n",
    "for i in x:\n",
    "    df.drop([i], axis=1, inplace=True)"
   ]
  },
  {
   "cell_type": "code",
   "execution_count": 127,
   "metadata": {},
   "outputs": [
    {
     "data": {
      "text/plain": [
       "EVENT_ID               int64\n",
       "STATE                 object\n",
       "YEAR                   int64\n",
       "MONTH_NAME            object\n",
       "EVENT_TYPE            object\n",
       "INJURIES_DIRECT        int64\n",
       "INJURIES_INDIRECT      int64\n",
       "DEATHS_DIRECT          int64\n",
       "DEATHS_INDIRECT        int64\n",
       "DAMAGE_PROPERTY       object\n",
       "DAMAGE_CROPS          object\n",
       "MAGNITUDE            float64\n",
       "Days                   int64\n",
       "Duration               int64\n",
       "dtype: object"
      ]
     },
     "execution_count": 127,
     "metadata": {},
     "output_type": "execute_result"
    }
   ],
   "source": [
    "df.dtypes"
   ]
  },
  {
   "cell_type": "code",
   "execution_count": 128,
   "metadata": {},
   "outputs": [
    {
     "data": {
      "text/plain": [
       "2190"
      ]
     },
     "execution_count": 128,
     "metadata": {},
     "output_type": "execute_result"
    }
   ],
   "source": [
    "# Read in second dataset on fatalties, where each observation represents one fatality\n",
    "fata18 = pd.read_csv('StormEvents_fatalities-ftp_v1.0_d2018_c20190220.csv.gz')\n",
    "fata17 = pd.read_csv('StormEvents_fatalities-ftp_v1.0_d2017_c20181219.csv.gz')\n",
    "fata16 = pd.read_csv('StormEvents_fatalities-ftp_v1.0_d2016_c20180718.csv.gz')\n",
    "fata = pd.concat([fata18, fata17, fata16])\n",
    "\n",
    "#I chose to count number of fatalities by FATALITY_DATE because there were no null values in that column. \n",
    "df_fata = pd.DataFrame({'Num_fatalities': fata.groupby('EVENT_ID')['FATALITY_DATE'].count()})\n",
    "df_fata.sort_values(['EVENT_ID'])\n",
    "df_fata['Num_fatalities'].sum()"
   ]
  },
  {
   "cell_type": "code",
   "execution_count": 129,
   "metadata": {},
   "outputs": [
    {
     "data": {
      "text/plain": [
       "True"
      ]
     },
     "execution_count": 129,
     "metadata": {},
     "output_type": "execute_result"
    }
   ],
   "source": [
    "#Check to make sure EVENT_ID is a unique id before merging with fatalities dataset. \n",
    "df['EVENT_ID'].nunique()==df['EVENT_ID'].count()"
   ]
  },
  {
   "cell_type": "code",
   "execution_count": 130,
   "metadata": {},
   "outputs": [],
   "source": [
    "df.set_index('EVENT_ID', inplace=True)"
   ]
  },
  {
   "cell_type": "code",
   "execution_count": 131,
   "metadata": {},
   "outputs": [],
   "source": [
    "#Merge dataframes with an outer join and delete DEATHS columns\n",
    "df_new = df.join(df_fata, on='EVENT_ID', how='left')\n",
    "df_new.drop(['DEATHS_DIRECT', 'DEATHS_INDIRECT'], axis=1, inplace=True)"
   ]
  },
  {
   "cell_type": "code",
   "execution_count": 132,
   "metadata": {},
   "outputs": [
    {
     "data": {
      "text/plain": [
       "(171758, 12)"
      ]
     },
     "execution_count": 132,
     "metadata": {},
     "output_type": "execute_result"
    }
   ],
   "source": [
    "df_new.shape #this join was OK"
   ]
  },
  {
   "cell_type": "code",
   "execution_count": 133,
   "metadata": {},
   "outputs": [
    {
     "data": {
      "text/plain": [
       "STATE     object\n",
       "Budget    object\n",
       "dtype: object"
      ]
     },
     "execution_count": 133,
     "metadata": {},
     "output_type": "execute_result"
    }
   ],
   "source": [
    "# Read in dataset on state budget for Emergency Management in FY17. For the purposes of this project, I assume\n",
    "# this budget represents the annual average budget for emergency and disaster relief over years 2016 to 2018.\n",
    "budget = pd.read_csv('StateBudget.csv')\n",
    "budget.dtypes"
   ]
  },
  {
   "cell_type": "code",
   "execution_count": 134,
   "metadata": {},
   "outputs": [],
   "source": [
    "# Change Budget into a float variable\n",
    "budget['Budget'] = [x.strip() for x in budget['Budget']]\n",
    "budget['Budget'] = budget['Budget'].str.replace(',', '')\n",
    "budget['Budget'] = budget['Budget'].astype('float')"
   ]
  },
  {
   "cell_type": "code",
   "execution_count": 135,
   "metadata": {},
   "outputs": [
    {
     "data": {
      "text/plain": [
       "STATE      object\n",
       "Budget    float64\n",
       "dtype: object"
      ]
     },
     "execution_count": 135,
     "metadata": {},
     "output_type": "execute_result"
    }
   ],
   "source": [
    "budget.dtypes"
   ]
  },
  {
   "cell_type": "code",
   "execution_count": 136,
   "metadata": {},
   "outputs": [],
   "source": [
    "# Join budget with the dataset.\n",
    "df_new = df_new.merge(budget, on='STATE', how='left')"
   ]
  },
  {
   "cell_type": "code",
   "execution_count": 137,
   "metadata": {},
   "outputs": [
    {
     "data": {
      "text/plain": [
       "(171758, 13)"
      ]
     },
     "execution_count": 137,
     "metadata": {},
     "output_type": "execute_result"
    }
   ],
   "source": [
    "df_new.shape"
   ]
  },
  {
   "cell_type": "code",
   "execution_count": 138,
   "metadata": {},
   "outputs": [],
   "source": [
    "# Read in data ....!!!!\n",
    "popn =  pd.read_csv('popn.csv')\n",
    "gdp = pd.read_csv('GDP.csv')\n",
    "age = pd.read_csv('Age.csv')\n",
    "urban = pd.read_csv('UrbanRural.csv')"
   ]
  },
  {
   "cell_type": "code",
   "execution_count": 139,
   "metadata": {},
   "outputs": [
    {
     "data": {
      "text/plain": [
       "STATE            object\n",
       "POPPCT_URBAN    float64\n",
       "dtype: object"
      ]
     },
     "execution_count": 139,
     "metadata": {},
     "output_type": "execute_result"
    }
   ],
   "source": [
    "urban.dtypes"
   ]
  },
  {
   "cell_type": "code",
   "execution_count": 140,
   "metadata": {},
   "outputs": [
    {
     "data": {
      "text/plain": [
       "STATE                     0\n",
       "YEAR                      0\n",
       "MONTH_NAME                0\n",
       "EVENT_TYPE                0\n",
       "INJURIES_DIRECT           0\n",
       "INJURIES_INDIRECT         0\n",
       "DAMAGE_PROPERTY       33842\n",
       "DAMAGE_CROPS          33729\n",
       "MAGNITUDE             79082\n",
       "Days                      0\n",
       "Duration                  0\n",
       "Num_fatalities       170482\n",
       "Budget                13346\n",
       "dtype: int64"
      ]
     },
     "execution_count": 140,
     "metadata": {},
     "output_type": "execute_result"
    }
   ],
   "source": [
    "df_new.isna().sum()"
   ]
  },
  {
   "cell_type": "code",
   "execution_count": 141,
   "metadata": {},
   "outputs": [],
   "source": [
    "# Merge onto dataset\n",
    "l = [popn, gdp, age, urban]\n",
    "for i in l:\n",
    "    #print(i['STATE'])\n",
    "    df_new = df_new.merge(i, on='STATE', how='left')"
   ]
  },
  {
   "cell_type": "markdown",
   "metadata": {},
   "source": [
    "<a id=\"summarize-the-dataset\"></a>\n",
    "## Summarize the Dataset"
   ]
  },
  {
   "cell_type": "code",
   "execution_count": 142,
   "metadata": {},
   "outputs": [
    {
     "data": {
      "text/plain": [
       "(171758, 17)"
      ]
     },
     "execution_count": 142,
     "metadata": {},
     "output_type": "execute_result"
    }
   ],
   "source": [
    "df_new.shape"
   ]
  },
  {
   "cell_type": "code",
   "execution_count": 143,
   "metadata": {},
   "outputs": [
    {
     "data": {
      "text/plain": [
       "Index(['STATE', 'YEAR', 'MONTH_NAME', 'EVENT_TYPE', 'INJURIES_DIRECT',\n",
       "       'INJURIES_INDIRECT', 'DAMAGE_PROPERTY', 'DAMAGE_CROPS', 'MAGNITUDE',\n",
       "       'Days', 'Duration', 'Num_fatalities', 'Budget', 'AveragePopn16_18',\n",
       "       '3yraverage', 'PCT18+', 'POPPCT_URBAN'],\n",
       "      dtype='object')"
      ]
     },
     "execution_count": 143,
     "metadata": {},
     "output_type": "execute_result"
    }
   ],
   "source": [
    "df_new.columns"
   ]
  },
  {
   "cell_type": "code",
   "execution_count": 144,
   "metadata": {},
   "outputs": [
    {
     "data": {
      "text/html": [
       "<div>\n",
       "<style scoped>\n",
       "    .dataframe tbody tr th:only-of-type {\n",
       "        vertical-align: middle;\n",
       "    }\n",
       "\n",
       "    .dataframe tbody tr th {\n",
       "        vertical-align: top;\n",
       "    }\n",
       "\n",
       "    .dataframe thead th {\n",
       "        text-align: right;\n",
       "    }\n",
       "</style>\n",
       "<table border=\"1\" class=\"dataframe\">\n",
       "  <thead>\n",
       "    <tr style=\"text-align: right;\">\n",
       "      <th></th>\n",
       "      <th>STATE</th>\n",
       "      <th>YEAR</th>\n",
       "      <th>MONTH_NAME</th>\n",
       "      <th>EVENT_TYPE</th>\n",
       "      <th>INJURIES_DIRECT</th>\n",
       "      <th>INJURIES_INDIRECT</th>\n",
       "      <th>DAMAGE_PROPERTY</th>\n",
       "      <th>DAMAGE_CROPS</th>\n",
       "      <th>MAGNITUDE</th>\n",
       "      <th>Days</th>\n",
       "      <th>Duration</th>\n",
       "      <th>Num_fatalities</th>\n",
       "      <th>Budget</th>\n",
       "      <th>AveragePopn16_18</th>\n",
       "      <th>3yraverage</th>\n",
       "      <th>PCT18+</th>\n",
       "      <th>POPPCT_URBAN</th>\n",
       "    </tr>\n",
       "  </thead>\n",
       "  <tbody>\n",
       "    <tr>\n",
       "      <th>0</th>\n",
       "      <td>NEBRASKA</td>\n",
       "      <td>2018</td>\n",
       "      <td>June</td>\n",
       "      <td>Hail</td>\n",
       "      <td>0</td>\n",
       "      <td>0</td>\n",
       "      <td>0.00K</td>\n",
       "      <td>0.00K</td>\n",
       "      <td>1.00</td>\n",
       "      <td>1</td>\n",
       "      <td>0</td>\n",
       "      <td>NaN</td>\n",
       "      <td>1402870.0</td>\n",
       "      <td>1.917589e+06</td>\n",
       "      <td>117046.7333</td>\n",
       "      <td>75.2</td>\n",
       "      <td>73.13</td>\n",
       "    </tr>\n",
       "    <tr>\n",
       "      <th>1</th>\n",
       "      <td>NEBRASKA</td>\n",
       "      <td>2018</td>\n",
       "      <td>June</td>\n",
       "      <td>Hail</td>\n",
       "      <td>0</td>\n",
       "      <td>0</td>\n",
       "      <td>0.00K</td>\n",
       "      <td>0.00K</td>\n",
       "      <td>1.25</td>\n",
       "      <td>1</td>\n",
       "      <td>0</td>\n",
       "      <td>NaN</td>\n",
       "      <td>1402870.0</td>\n",
       "      <td>1.917589e+06</td>\n",
       "      <td>117046.7333</td>\n",
       "      <td>75.2</td>\n",
       "      <td>73.13</td>\n",
       "    </tr>\n",
       "    <tr>\n",
       "      <th>2</th>\n",
       "      <td>VERMONT</td>\n",
       "      <td>2018</td>\n",
       "      <td>June</td>\n",
       "      <td>Thunderstorm Wind</td>\n",
       "      <td>0</td>\n",
       "      <td>0</td>\n",
       "      <td>15.00K</td>\n",
       "      <td>0.00K</td>\n",
       "      <td>60.00</td>\n",
       "      <td>1</td>\n",
       "      <td>2</td>\n",
       "      <td>NaN</td>\n",
       "      <td>12567768.0</td>\n",
       "      <td>6.248227e+05</td>\n",
       "      <td>31590.1000</td>\n",
       "      <td>81.3</td>\n",
       "      <td>38.90</td>\n",
       "    </tr>\n",
       "    <tr>\n",
       "      <th>3</th>\n",
       "      <td>VERMONT</td>\n",
       "      <td>2018</td>\n",
       "      <td>June</td>\n",
       "      <td>Thunderstorm Wind</td>\n",
       "      <td>0</td>\n",
       "      <td>0</td>\n",
       "      <td>10.00K</td>\n",
       "      <td>0.00K</td>\n",
       "      <td>55.00</td>\n",
       "      <td>1</td>\n",
       "      <td>0</td>\n",
       "      <td>NaN</td>\n",
       "      <td>12567768.0</td>\n",
       "      <td>6.248227e+05</td>\n",
       "      <td>31590.1000</td>\n",
       "      <td>81.3</td>\n",
       "      <td>38.90</td>\n",
       "    </tr>\n",
       "    <tr>\n",
       "      <th>4</th>\n",
       "      <td>NEBRASKA</td>\n",
       "      <td>2018</td>\n",
       "      <td>June</td>\n",
       "      <td>Tornado</td>\n",
       "      <td>0</td>\n",
       "      <td>0</td>\n",
       "      <td>0.00K</td>\n",
       "      <td>0.00K</td>\n",
       "      <td>NaN</td>\n",
       "      <td>1</td>\n",
       "      <td>0</td>\n",
       "      <td>NaN</td>\n",
       "      <td>1402870.0</td>\n",
       "      <td>1.917589e+06</td>\n",
       "      <td>117046.7333</td>\n",
       "      <td>75.2</td>\n",
       "      <td>73.13</td>\n",
       "    </tr>\n",
       "  </tbody>\n",
       "</table>\n",
       "</div>"
      ],
      "text/plain": [
       "      STATE  YEAR MONTH_NAME         EVENT_TYPE  INJURIES_DIRECT  \\\n",
       "0  NEBRASKA  2018       June               Hail                0   \n",
       "1  NEBRASKA  2018       June               Hail                0   \n",
       "2   VERMONT  2018       June  Thunderstorm Wind                0   \n",
       "3   VERMONT  2018       June  Thunderstorm Wind                0   \n",
       "4  NEBRASKA  2018       June            Tornado                0   \n",
       "\n",
       "   INJURIES_INDIRECT DAMAGE_PROPERTY DAMAGE_CROPS  MAGNITUDE  Days  Duration  \\\n",
       "0                  0           0.00K        0.00K       1.00     1         0   \n",
       "1                  0           0.00K        0.00K       1.25     1         0   \n",
       "2                  0          15.00K        0.00K      60.00     1         2   \n",
       "3                  0          10.00K        0.00K      55.00     1         0   \n",
       "4                  0           0.00K        0.00K        NaN     1         0   \n",
       "\n",
       "   Num_fatalities      Budget  AveragePopn16_18   3yraverage  PCT18+  \\\n",
       "0             NaN   1402870.0      1.917589e+06  117046.7333    75.2   \n",
       "1             NaN   1402870.0      1.917589e+06  117046.7333    75.2   \n",
       "2             NaN  12567768.0      6.248227e+05   31590.1000    81.3   \n",
       "3             NaN  12567768.0      6.248227e+05   31590.1000    81.3   \n",
       "4             NaN   1402870.0      1.917589e+06  117046.7333    75.2   \n",
       "\n",
       "   POPPCT_URBAN  \n",
       "0         73.13  \n",
       "1         73.13  \n",
       "2         38.90  \n",
       "3         38.90  \n",
       "4         73.13  "
      ]
     },
     "execution_count": 144,
     "metadata": {},
     "output_type": "execute_result"
    }
   ],
   "source": [
    "df_new.head()"
   ]
  },
  {
   "cell_type": "markdown",
   "metadata": {},
   "source": [
    "<a id=\"address-missing-values\"></a>\n",
    "## Address Missing Values"
   ]
  },
  {
   "cell_type": "code",
   "execution_count": 145,
   "metadata": {},
   "outputs": [
    {
     "data": {
      "text/plain": [
       "STATE                     0\n",
       "YEAR                      0\n",
       "MONTH_NAME                0\n",
       "EVENT_TYPE                0\n",
       "INJURIES_DIRECT           0\n",
       "INJURIES_INDIRECT         0\n",
       "DAMAGE_PROPERTY       33842\n",
       "DAMAGE_CROPS          33729\n",
       "MAGNITUDE             79082\n",
       "Days                      0\n",
       "Duration                  0\n",
       "Num_fatalities       170482\n",
       "Budget                13346\n",
       "AveragePopn16_18       7363\n",
       "3yraverage             7864\n",
       "PCT18+                 7864\n",
       "POPPCT_URBAN           7363\n",
       "dtype: int64"
      ]
     },
     "execution_count": 145,
     "metadata": {},
     "output_type": "execute_result"
    }
   ],
   "source": [
    "df_new.isna().sum()"
   ]
  },
  {
   "cell_type": "code",
   "execution_count": 146,
   "metadata": {},
   "outputs": [],
   "source": [
    "# ASSUMPTION: No fatalities data for a given event means there were zero fatalities.\n",
    "df_new['Num_fatalities'].fillna(value=0, inplace=True)"
   ]
  },
  {
   "cell_type": "code",
   "execution_count": 147,
   "metadata": {},
   "outputs": [],
   "source": [
    "# DECISION\n",
    "# 1) Fill Nulls in Damage columns with 0.00K\n",
    "# 2) Convert to floats\n",
    "\n",
    "df_new['DAMAGE_PROPERTY'].fillna(value='0.00K', inplace=True)\n",
    "df_new['DAMAGE_CROPS'].fillna(value='0.00K', inplace = True)"
   ]
  },
  {
   "cell_type": "code",
   "execution_count": 148,
   "metadata": {},
   "outputs": [],
   "source": [
    "df_new['crop_dam'] = df_new['DAMAGE_CROPS'].apply(lambda x: float(x[:-1]))"
   ]
  },
  {
   "cell_type": "code",
   "execution_count": 149,
   "metadata": {},
   "outputs": [],
   "source": [
    "df_new['prop_dam'] = df_new['DAMAGE_PROPERTY'].apply(lambda x: float(x[:-1]))"
   ]
  },
  {
   "cell_type": "code",
   "execution_count": 150,
   "metadata": {},
   "outputs": [],
   "source": [
    "df_new.drop(['DAMAGE_PROPERTY', 'DAMAGE_CROPS'], axis= 1, inplace=True)"
   ]
  },
  {
   "cell_type": "code",
   "execution_count": 151,
   "metadata": {},
   "outputs": [
    {
     "name": "stderr",
     "output_type": "stream",
     "text": [
      "C:\\Users\\allis\\Anaconda3\\envs\\py36\\lib\\site-packages\\numpy\\lib\\histograms.py:824: RuntimeWarning: invalid value encountered in greater_equal\n",
      "  keep = (tmp_a >= first_edge)\n",
      "C:\\Users\\allis\\Anaconda3\\envs\\py36\\lib\\site-packages\\numpy\\lib\\histograms.py:825: RuntimeWarning: invalid value encountered in less_equal\n",
      "  keep &= (tmp_a <= last_edge)\n"
     ]
    },
    {
     "data": {
      "image/png": "[encoded data removed]",
      "text/plain": [
       "<Figure size 432x288 with 1 Axes>"
      ]
     },
     "metadata": {
      "needs_background": "light"
     },
     "output_type": "display_data"
    }
   ],
   "source": [
    "import matplotlib.pyplot as plt\n",
    "plt.hist([df_new['MAGNITUDE']]);"
   ]
  },
  {
   "cell_type": "code",
   "execution_count": 152,
   "metadata": {},
   "outputs": [],
   "source": [
    "# DECISION: Replace null values of magnitude with the median value. \n",
    "df_new['MAGNITUDE'].fillna(value=df_new['MAGNITUDE'].median(), inplace=True)"
   ]
  },
  {
   "cell_type": "code",
   "execution_count": 153,
   "metadata": {},
   "outputs": [
    {
     "data": {
      "text/plain": [
       "array(['GULF OF MEXICO', 'LAKE MICHIGAN', 'NORTH CAROLINA',\n",
       "       'ATLANTIC NORTH', 'ATLANTIC SOUTH', 'LAKE SUPERIOR',\n",
       "       'DISTRICT OF COLUMBIA', 'HAWAII WATERS', 'NEW HAMPSHIRE',\n",
       "       'PUERTO RICO', 'E PACIFIC', 'AMERICAN SAMOA', 'LAKE ERIE',\n",
       "       'LAKE HURON', 'LAKE ONTARIO', 'VIRGIN ISLANDS', 'ST LAWRENCE R',\n",
       "       'LAKE ST CLAIR', 'GUAM'], dtype=object)"
      ]
     },
     "execution_count": 153,
     "metadata": {},
     "output_type": "execute_result"
    }
   ],
   "source": [
    "# Noting that the original dataset contained some areas that were not states...\n",
    "df_new['STATE'][(df_new['Budget'].isna())].unique()"
   ]
  },
  {
   "cell_type": "code",
   "execution_count": 154,
   "metadata": {},
   "outputs": [
    {
     "data": {
      "text/plain": [
       "array([0., 2., 1., 4., 9., 3.])"
      ]
     },
     "execution_count": 154,
     "metadata": {},
     "output_type": "execute_result"
    }
   ],
   "source": [
    "# However, there are only 5 datapoints of fatalities within these areas\n",
    "df_new['Num_fatalities'][(df_new['Budget'].isna())].unique()"
   ]
  },
  {
   "cell_type": "code",
   "execution_count": 155,
   "metadata": {},
   "outputs": [],
   "source": [
    "# For this reason, I decided to drop the rows where Budget is null and limit the analysis to States only \n",
    "df_new.dropna(subset=['Budget'], axis=0, inplace=True)"
   ]
  },
  {
   "cell_type": "code",
   "execution_count": 156,
   "metadata": {},
   "outputs": [
    {
     "data": {
      "text/plain": [
       "STATE                0\n",
       "YEAR                 0\n",
       "MONTH_NAME           0\n",
       "EVENT_TYPE           0\n",
       "INJURIES_DIRECT      0\n",
       "INJURIES_INDIRECT    0\n",
       "MAGNITUDE            0\n",
       "Days                 0\n",
       "Duration             0\n",
       "Num_fatalities       0\n",
       "Budget               0\n",
       "AveragePopn16_18     0\n",
       "3yraverage           0\n",
       "PCT18+               0\n",
       "POPPCT_URBAN         0\n",
       "crop_dam             0\n",
       "prop_dam             0\n",
       "dtype: int64"
      ]
     },
     "execution_count": 156,
     "metadata": {},
     "output_type": "execute_result"
    }
   ],
   "source": [
    "df_new.isna().sum()"
   ]
  },
  {
   "cell_type": "markdown",
   "metadata": {},
   "source": [
    "<a id=\"exploratory-analysis\"></a>\n",
    "## Exploratory Analysis"
   ]
  },
  {
   "cell_type": "code",
   "execution_count": 35,
   "metadata": {},
   "outputs": [
    {
     "data": {
      "text/plain": [
       "STATE                 object\n",
       "YEAR                   int64\n",
       "MONTH_NAME            object\n",
       "EVENT_TYPE            object\n",
       "INJURIES_DIRECT        int64\n",
       "INJURIES_INDIRECT      int64\n",
       "MAGNITUDE            float64\n",
       "Days                   int64\n",
       "Duration               int64\n",
       "Num_fatalities       float64\n",
       "Budget               float64\n",
       "AveragePopn16_18     float64\n",
       "3yraverage           float64\n",
       "PCT18+               float64\n",
       "POPPCT_URBAN         float64\n",
       "crop_dam             float64\n",
       "prop_dam             float64\n",
       "dtype: object"
      ]
     },
     "execution_count": 35,
     "metadata": {},
     "output_type": "execute_result"
    }
   ],
   "source": [
    "df_new.dtypes"
   ]
  },
  {
   "cell_type": "code",
   "execution_count": 36,
   "metadata": {},
   "outputs": [
    {
     "data": {
      "text/plain": [
       "Index(['STATE', 'YEAR', 'MONTH_NAME', 'EVENT_TYPE', 'INJURIES_DIRECT',\n",
       "       'INJURIES_INDIRECT', 'MAGNITUDE', 'Days', 'Duration', 'Num_fatalities',\n",
       "       'Budget', 'AveragePopn16_18', '3yraverage', 'PCT18+', 'POPPCT_URBAN',\n",
       "       'crop_dam', 'prop_dam'],\n",
       "      dtype='object')"
      ]
     },
     "execution_count": 36,
     "metadata": {},
     "output_type": "execute_result"
    }
   ],
   "source": [
    "df_new.columns"
   ]
  },
  {
   "cell_type": "code",
   "execution_count": 37,
   "metadata": {},
   "outputs": [
    {
     "data": {
      "image/png": "[encoded data removed]",
      "text/plain": [
       "<Figure size 432x288 with 1 Axes>"
      ]
     },
     "metadata": {
      "needs_background": "light"
     },
     "output_type": "display_data"
    }
   ],
   "source": [
    "plt.hist([df_new['Duration']]);"
   ]
  },
  {
   "cell_type": "code",
   "execution_count": 159,
   "metadata": {},
   "outputs": [
    {
     "data": {
      "text/html": [
       "<div>\n",
       "<style scoped>\n",
       "    .dataframe tbody tr th:only-of-type {\n",
       "        vertical-align: middle;\n",
       "    }\n",
       "\n",
       "    .dataframe tbody tr th {\n",
       "        vertical-align: top;\n",
       "    }\n",
       "\n",
       "    .dataframe thead th {\n",
       "        text-align: right;\n",
       "    }\n",
       "</style>\n",
       "<table border=\"1\" class=\"dataframe\">\n",
       "  <thead>\n",
       "    <tr style=\"text-align: right;\">\n",
       "      <th></th>\n",
       "      <th>STATE</th>\n",
       "      <th>YEAR</th>\n",
       "      <th>MONTH_NAME</th>\n",
       "      <th>EVENT_TYPE</th>\n",
       "      <th>INJURIES_DIRECT</th>\n",
       "      <th>INJURIES_INDIRECT</th>\n",
       "      <th>MAGNITUDE</th>\n",
       "      <th>Days</th>\n",
       "      <th>Duration</th>\n",
       "      <th>Num_fatalities</th>\n",
       "      <th>Budget</th>\n",
       "      <th>AveragePopn16_18</th>\n",
       "      <th>3yraverage</th>\n",
       "      <th>PCT18+</th>\n",
       "      <th>POPPCT_URBAN</th>\n",
       "      <th>crop_dam</th>\n",
       "      <th>prop_dam</th>\n",
       "    </tr>\n",
       "  </thead>\n",
       "  <tbody>\n",
       "    <tr>\n",
       "      <th>56741</th>\n",
       "      <td>CALIFORNIA</td>\n",
       "      <td>2018</td>\n",
       "      <td>November</td>\n",
       "      <td>Wildfire</td>\n",
       "      <td>0</td>\n",
       "      <td>12</td>\n",
       "      <td>50.0</td>\n",
       "      <td>18</td>\n",
       "      <td>867</td>\n",
       "      <td>86.0</td>\n",
       "      <td>60159500.0</td>\n",
       "      <td>39388507.00</td>\n",
       "      <td>2.673361e+06</td>\n",
       "      <td>77.1</td>\n",
       "      <td>94.95</td>\n",
       "      <td>0.0</td>\n",
       "      <td>17.0</td>\n",
       "    </tr>\n",
       "    <tr>\n",
       "      <th>109592</th>\n",
       "      <td>TEXAS</td>\n",
       "      <td>2017</td>\n",
       "      <td>August</td>\n",
       "      <td>Flash Flood</td>\n",
       "      <td>0</td>\n",
       "      <td>0</td>\n",
       "      <td>50.0</td>\n",
       "      <td>4</td>\n",
       "      <td>55</td>\n",
       "      <td>38.0</td>\n",
       "      <td>21481000.0</td>\n",
       "      <td>28320684.67</td>\n",
       "      <td>1.593159e+06</td>\n",
       "      <td>74.0</td>\n",
       "      <td>84.70</td>\n",
       "      <td>100.0</td>\n",
       "      <td>10.0</td>\n",
       "    </tr>\n",
       "    <tr>\n",
       "      <th>115186</th>\n",
       "      <td>TEXAS</td>\n",
       "      <td>2017</td>\n",
       "      <td>August</td>\n",
       "      <td>Tropical Storm</td>\n",
       "      <td>0</td>\n",
       "      <td>0</td>\n",
       "      <td>50.0</td>\n",
       "      <td>5</td>\n",
       "      <td>0</td>\n",
       "      <td>38.0</td>\n",
       "      <td>21481000.0</td>\n",
       "      <td>28320684.67</td>\n",
       "      <td>1.593159e+06</td>\n",
       "      <td>74.0</td>\n",
       "      <td>84.70</td>\n",
       "      <td>0.0</td>\n",
       "      <td>10.0</td>\n",
       "    </tr>\n",
       "    <tr>\n",
       "      <th>156544</th>\n",
       "      <td>NEVADA</td>\n",
       "      <td>2016</td>\n",
       "      <td>July</td>\n",
       "      <td>Excessive Heat</td>\n",
       "      <td>0</td>\n",
       "      <td>0</td>\n",
       "      <td>50.0</td>\n",
       "      <td>8</td>\n",
       "      <td>2359</td>\n",
       "      <td>26.0</td>\n",
       "      <td>4479751.0</td>\n",
       "      <td>2975523.00</td>\n",
       "      <td>1.508069e+05</td>\n",
       "      <td>77.1</td>\n",
       "      <td>94.20</td>\n",
       "      <td>0.0</td>\n",
       "      <td>0.0</td>\n",
       "    </tr>\n",
       "    <tr>\n",
       "      <th>97483</th>\n",
       "      <td>FLORIDA</td>\n",
       "      <td>2017</td>\n",
       "      <td>September</td>\n",
       "      <td>Tropical Storm</td>\n",
       "      <td>0</td>\n",
       "      <td>0</td>\n",
       "      <td>50.0</td>\n",
       "      <td>2</td>\n",
       "      <td>700</td>\n",
       "      <td>21.0</td>\n",
       "      <td>331052744.0</td>\n",
       "      <td>20968706.33</td>\n",
       "      <td>9.364919e+05</td>\n",
       "      <td>80.0</td>\n",
       "      <td>91.16</td>\n",
       "      <td>0.0</td>\n",
       "      <td>0.0</td>\n",
       "    </tr>\n",
       "  </tbody>\n",
       "</table>\n",
       "</div>"
      ],
      "text/plain": [
       "             STATE  YEAR MONTH_NAME      EVENT_TYPE  INJURIES_DIRECT  \\\n",
       "56741   CALIFORNIA  2018   November        Wildfire                0   \n",
       "109592       TEXAS  2017     August     Flash Flood                0   \n",
       "115186       TEXAS  2017     August  Tropical Storm                0   \n",
       "156544      NEVADA  2016       July  Excessive Heat                0   \n",
       "97483      FLORIDA  2017  September  Tropical Storm                0   \n",
       "\n",
       "        INJURIES_INDIRECT  MAGNITUDE  Days  Duration  Num_fatalities  \\\n",
       "56741                  12       50.0    18       867            86.0   \n",
       "109592                  0       50.0     4        55            38.0   \n",
       "115186                  0       50.0     5         0            38.0   \n",
       "156544                  0       50.0     8      2359            26.0   \n",
       "97483                   0       50.0     2       700            21.0   \n",
       "\n",
       "             Budget  AveragePopn16_18    3yraverage  PCT18+  POPPCT_URBAN  \\\n",
       "56741    60159500.0       39388507.00  2.673361e+06    77.1         94.95   \n",
       "109592   21481000.0       28320684.67  1.593159e+06    74.0         84.70   \n",
       "115186   21481000.0       28320684.67  1.593159e+06    74.0         84.70   \n",
       "156544    4479751.0        2975523.00  1.508069e+05    77.1         94.20   \n",
       "97483   331052744.0       20968706.33  9.364919e+05    80.0         91.16   \n",
       "\n",
       "        crop_dam  prop_dam  \n",
       "56741        0.0      17.0  \n",
       "109592     100.0      10.0  \n",
       "115186       0.0      10.0  \n",
       "156544       0.0       0.0  \n",
       "97483        0.0       0.0  "
      ]
     },
     "execution_count": 159,
     "metadata": {},
     "output_type": "execute_result"
    }
   ],
   "source": [
    "df_new.sort_values(by=\"Num_fatalities\", ascending=False).head()"
   ]
  },
  {
   "cell_type": "code",
   "execution_count": 39,
   "metadata": {},
   "outputs": [
    {
     "data": {
      "image/png": "[encoded data removed]",
      "text/plain": [
       "<Figure size 432x288 with 1 Axes>"
      ]
     },
     "metadata": {
      "needs_background": "light"
     },
     "output_type": "display_data"
    }
   ],
   "source": [
    "df_new.groupby('MONTH_NAME')['Num_fatalities'].sum().plot(kind='bar');"
   ]
  },
  {
   "cell_type": "code",
   "execution_count": 40,
   "metadata": {},
   "outputs": [
    {
     "data": {
      "text/plain": [
       "EVENT_TYPE\n",
       "Heat              248.0\n",
       "Flash Flood       242.0\n",
       "Excessive Heat    217.0\n",
       "Tropical Storm    134.0\n",
       "Winter Weather    131.0\n",
       "Name: Num_fatalities, dtype: float64"
      ]
     },
     "execution_count": 40,
     "metadata": {},
     "output_type": "execute_result"
    }
   ],
   "source": [
    "df_new.groupby('EVENT_TYPE')['Num_fatalities'].sum().sort_values(ascending=False).head()"
   ]
  },
  {
   "cell_type": "code",
   "execution_count": 41,
   "metadata": {},
   "outputs": [
    {
     "data": {
      "text/plain": [
       "<matplotlib.axes._subplots.AxesSubplot at 0x2aec19f8a90>"
      ]
     },
     "execution_count": 41,
     "metadata": {},
     "output_type": "execute_result"
    },
    {
     "data": {
      "image/png": "[encoded data removed]",
      "text/plain": [
       "<Figure size 432x288 with 1 Axes>"
      ]
     },
     "metadata": {
      "needs_background": "light"
     },
     "output_type": "display_data"
    }
   ],
   "source": [
    "df_new.groupby('YEAR')['Num_fatalities'].sum().plot(kind='bar')"
   ]
  },
  {
   "cell_type": "markdown",
   "metadata": {},
   "source": [
    "Fatalities are roughly the same year to year, so I don't expect year to be a differentiating feature. "
   ]
  },
  {
   "cell_type": "code",
   "execution_count": 42,
   "metadata": {},
   "outputs": [
    {
     "data": {
      "text/plain": [
       "STATE\n",
       "NEVADA        332.0\n",
       "TEXAS         291.0\n",
       "FLORIDA       222.0\n",
       "CALIFORNIA    214.0\n",
       "WISCONSIN      83.0\n",
       "Name: Num_fatalities, dtype: float64"
      ]
     },
     "execution_count": 42,
     "metadata": {},
     "output_type": "execute_result"
    }
   ],
   "source": [
    "df_new.groupby('STATE')['Num_fatalities'].sum().sort_values(ascending=False).head()"
   ]
  },
  {
   "cell_type": "code",
   "execution_count": 43,
   "metadata": {},
   "outputs": [
    {
     "data": {
      "image/png": "[encoded data removed]",
      "text/plain": [
       "<Figure size 432x288 with 2 Axes>"
      ]
     },
     "metadata": {
      "needs_background": "light"
     },
     "output_type": "display_data"
    }
   ],
   "source": [
    "sns.heatmap(df_new.corr());"
   ]
  },
  {
   "cell_type": "markdown",
   "metadata": {},
   "source": [
    "<a id=\"feature-engineering\"></a>\n",
    "## Feature Engineering"
   ]
  },
  {
   "cell_type": "markdown",
   "metadata": {},
   "source": [
    "In this section, I simplified and condensed the event types into seven broad categories. I then made these types into dummy variables, given that scikit learn only takes numerical inputs. \n",
    "\n",
    "I also created a new column, 'fatalities,' which is a dummy variable coded 1 if the event resulted in fatalities, and 0 if not. "
   ]
  },
  {
   "cell_type": "code",
   "execution_count": 160,
   "metadata": {},
   "outputs": [
    {
     "data": {
      "text/plain": [
       "EVENT_TYPE\n",
       "Astronomical Low Tide       1\n",
       "Avalanche                   3\n",
       "Blizzard                    3\n",
       "Coastal Flood               2\n",
       "Cold/Wind Chill             5\n",
       "Debris Flow                 2\n",
       "Dense Fog                   3\n",
       "Dense Smoke                 1\n",
       "Drought                     1\n",
       "Dust Devil                  1\n",
       "Dust Storm                  3\n",
       "Excessive Heat             14\n",
       "Extreme Cold/Wind Chill     3\n",
       "Flash Flood                11\n",
       "Flood                       4\n",
       "Freezing Fog                2\n",
       "Frost/Freeze                1\n",
       "Funnel Cloud                1\n",
       "Hail                        2\n",
       "Heat                       11\n",
       "Heavy Rain                  3\n",
       "Heavy Snow                  3\n",
       "High Surf                   4\n",
       "High Wind                   4\n",
       "Hurricane                   7\n",
       "Hurricane (Typhoon)         1\n",
       "Ice Storm                   2\n",
       "Lake-Effect Snow            3\n",
       "Lakeshore Flood             2\n",
       "Lightning                   4\n",
       "Rip Current                 4\n",
       "Seiche                      1\n",
       "Sleet                       2\n",
       "Sneakerwave                 3\n",
       "Storm Surge/Tide            3\n",
       "Strong Wind                 4\n",
       "Thunderstorm Wind           4\n",
       "Tornado                     7\n",
       "Tropical Depression         2\n",
       "Tropical Storm              9\n",
       "Volcanic Ashfall            1\n",
       "Wildfire                    7\n",
       "Winter Storm                4\n",
       "Winter Weather              5\n",
       "Name: Num_fatalities, dtype: int64"
      ]
     },
     "execution_count": 160,
     "metadata": {},
     "output_type": "execute_result"
    }
   ],
   "source": [
    "# The number of unique event types in the dataset, and the corresponding number of fatalities. \n",
    "df_new.groupby('EVENT_TYPE')['Num_fatalities'].nunique()"
   ]
  },
  {
   "cell_type": "code",
   "execution_count": 46,
   "metadata": {},
   "outputs": [
    {
     "data": {
      "text/plain": [
       "array(['Hail', 'Thunderstorm Wind', 'Tornado', 'Flash Flood', 'Flood',\n",
       "       'Lightning', 'Funnel Cloud', 'Drought', 'Wildfire',\n",
       "       'Winter Weather', 'High Wind', 'Strong Wind', 'Debris Flow',\n",
       "       'Rip Current', 'Winter Storm', 'Coastal Flood', 'Heavy Snow',\n",
       "       'Avalanche', 'Dense Fog', 'Heavy Rain', 'Ice Storm',\n",
       "       'Astronomical Low Tide', 'Cold/Wind Chill', 'High Surf',\n",
       "       'Lake-Effect Snow', 'Dust Storm', 'Blizzard', 'Frost/Freeze',\n",
       "       'Sleet', 'Extreme Cold/Wind Chill', 'Heat', 'Freezing Fog',\n",
       "       'Storm Surge/Tide', 'Tropical Depression', 'Excessive Heat',\n",
       "       'Lakeshore Flood', 'Dust Devil', 'Tropical Storm', 'Dense Smoke',\n",
       "       'Seiche', 'Volcanic Ashfall', 'Sneakerwave', 'Hurricane',\n",
       "       'Hurricane (Typhoon)'], dtype=object)"
      ]
     },
     "execution_count": 46,
     "metadata": {},
     "output_type": "execute_result"
    }
   ],
   "source": [
    "df_new['EVENT_TYPE'].unique()"
   ]
  },
  {
   "cell_type": "code",
   "execution_count": 47,
   "metadata": {},
   "outputs": [],
   "source": [
    "winter = ['Hail', 'Avalanche', 'Blizzard', 'Cold/Wind Chill', 'Extreme Cold/Wind Chill', 'Freezing Fog', 'Frost/Freeze', 'Heavy Snow', 'Ice Storm', 'Lake-Effect Snow', 'Sleet', 'Winter Storm', 'Winter Weather']\n",
    "flood_rain = ['Flood','Debris Flow', 'Seiches', 'Coastal Flood','Flash Flood','Lakeshore Flood','Heavy Rain']\n",
    "fire = ['Dense Smoke', 'Wildfire']\n",
    "heat = ['Excessive Heat', 'Heat', 'Drought']\n",
    "wind_dust = ['Dust Storm','Dust Devil','Funnel Cloud','High Wind','Strong Wind','Thunderstorm Wind', 'Tornado']\n",
    "ocean = ['Astronomical Low Tide', 'High Surf', 'Rip Current', 'Sneakerwave', 'Storm Surge/Tide', 'Seiche']\n",
    "tropical = ['Hurricane', 'Hurricane (Typhoon)', 'Tropical Depression', 'Tropical Storm', 'Marine Hurricane/Typhoon', 'Marine Tropical Depression', 'Marine Dense Fog']\n",
    "other = ['Lightning', 'Dense Fog','Volcanic Ashfall']\n",
    "a = [winter, flood_rain, fire, heat, wind_dust, ocean, tropical, other]"
   ]
  },
  {
   "cell_type": "code",
   "execution_count": 48,
   "metadata": {},
   "outputs": [],
   "source": [
    "df_new['EVENT_TYPE'].replace(to_replace = winter, value = 'winter', inplace = True)\n",
    "df_new['EVENT_TYPE'].replace(to_replace = flood_rain, value = 'flood_rain', inplace = True)\n",
    "df_new['EVENT_TYPE'].replace(to_replace = fire, value = 'fire', inplace = True)\n",
    "df_new['EVENT_TYPE'].replace(to_replace = heat, value = 'heat', inplace = True)\n",
    "df_new['EVENT_TYPE'].replace(to_replace = wind_dust, value = 'wind_dust', inplace = True)\n",
    "df_new['EVENT_TYPE'].replace(to_replace = ocean, value = 'ocean', inplace = True)\n",
    "df_new['EVENT_TYPE'].replace(to_replace = tropical, value = 'tropical', inplace = True)\n",
    "df_new['EVENT_TYPE'].replace(to_replace = other, value = 'other', inplace = True)"
   ]
  },
  {
   "cell_type": "code",
   "execution_count": 49,
   "metadata": {},
   "outputs": [
    {
     "data": {
      "text/plain": [
       "0       winter\n",
       "1       winter\n",
       "2    wind_dust\n",
       "3    wind_dust\n",
       "4    wind_dust\n",
       "Name: EVENT_TYPE, dtype: object"
      ]
     },
     "execution_count": 49,
     "metadata": {},
     "output_type": "execute_result"
    }
   ],
   "source": [
    "df_new['EVENT_TYPE'].head()"
   ]
  },
  {
   "cell_type": "code",
   "execution_count": 50,
   "metadata": {},
   "outputs": [
    {
     "data": {
      "text/plain": [
       "<matplotlib.axes._subplots.AxesSubplot at 0x2aec6ae0f60>"
      ]
     },
     "execution_count": 50,
     "metadata": {},
     "output_type": "execute_result"
    },
    {
     "data": {
      "image/png": "[encoded data removed]",
      "text/plain": [
       "<Figure size 432x288 with 1 Axes>"
      ]
     },
     "metadata": {
      "needs_background": "light"
     },
     "output_type": "display_data"
    }
   ],
   "source": [
    "df_new.groupby('EVENT_TYPE')['Num_fatalities'].sum().plot(kind='bar')"
   ]
  },
  {
   "cell_type": "code",
   "execution_count": 51,
   "metadata": {},
   "outputs": [
    {
     "data": {
      "text/plain": [
       "'TYPE_fire'"
      ]
     },
     "execution_count": 51,
     "metadata": {},
     "output_type": "execute_result"
    }
   ],
   "source": [
    "type_dummies = pd.get_dummies(df_new.EVENT_TYPE, prefix='TYPE')\n",
    "type_dummies.columns[0] #Baseline is fire"
   ]
  },
  {
   "cell_type": "code",
   "execution_count": 52,
   "metadata": {},
   "outputs": [
    {
     "data": {
      "text/html": [
       "<div>\n",
       "<style scoped>\n",
       "    .dataframe tbody tr th:only-of-type {\n",
       "        vertical-align: middle;\n",
       "    }\n",
       "\n",
       "    .dataframe tbody tr th {\n",
       "        vertical-align: top;\n",
       "    }\n",
       "\n",
       "    .dataframe thead th {\n",
       "        text-align: right;\n",
       "    }\n",
       "</style>\n",
       "<table border=\"1\" class=\"dataframe\">\n",
       "  <thead>\n",
       "    <tr style=\"text-align: right;\">\n",
       "      <th></th>\n",
       "      <th>TYPE_flood_rain</th>\n",
       "      <th>TYPE_heat</th>\n",
       "      <th>TYPE_ocean</th>\n",
       "      <th>TYPE_other</th>\n",
       "      <th>TYPE_tropical</th>\n",
       "      <th>TYPE_wind_dust</th>\n",
       "      <th>TYPE_winter</th>\n",
       "    </tr>\n",
       "  </thead>\n",
       "  <tbody>\n",
       "    <tr>\n",
       "      <th>93380</th>\n",
       "      <td>0</td>\n",
       "      <td>0</td>\n",
       "      <td>0</td>\n",
       "      <td>0</td>\n",
       "      <td>0</td>\n",
       "      <td>0</td>\n",
       "      <td>0</td>\n",
       "    </tr>\n",
       "    <tr>\n",
       "      <th>57713</th>\n",
       "      <td>0</td>\n",
       "      <td>0</td>\n",
       "      <td>0</td>\n",
       "      <td>0</td>\n",
       "      <td>0</td>\n",
       "      <td>1</td>\n",
       "      <td>0</td>\n",
       "    </tr>\n",
       "    <tr>\n",
       "      <th>75927</th>\n",
       "      <td>0</td>\n",
       "      <td>0</td>\n",
       "      <td>0</td>\n",
       "      <td>0</td>\n",
       "      <td>0</td>\n",
       "      <td>0</td>\n",
       "      <td>1</td>\n",
       "    </tr>\n",
       "    <tr>\n",
       "      <th>104675</th>\n",
       "      <td>0</td>\n",
       "      <td>1</td>\n",
       "      <td>0</td>\n",
       "      <td>0</td>\n",
       "      <td>0</td>\n",
       "      <td>0</td>\n",
       "      <td>0</td>\n",
       "    </tr>\n",
       "    <tr>\n",
       "      <th>47245</th>\n",
       "      <td>1</td>\n",
       "      <td>0</td>\n",
       "      <td>0</td>\n",
       "      <td>0</td>\n",
       "      <td>0</td>\n",
       "      <td>0</td>\n",
       "      <td>0</td>\n",
       "    </tr>\n",
       "  </tbody>\n",
       "</table>\n",
       "</div>"
      ],
      "text/plain": [
       "        TYPE_flood_rain  TYPE_heat  TYPE_ocean  TYPE_other  TYPE_tropical  \\\n",
       "93380                 0          0           0           0              0   \n",
       "57713                 0          0           0           0              0   \n",
       "75927                 0          0           0           0              0   \n",
       "104675                0          1           0           0              0   \n",
       "47245                 1          0           0           0              0   \n",
       "\n",
       "        TYPE_wind_dust  TYPE_winter  \n",
       "93380                0            0  \n",
       "57713                1            0  \n",
       "75927                0            1  \n",
       "104675               0            0  \n",
       "47245                0            0  "
      ]
     },
     "execution_count": 52,
     "metadata": {},
     "output_type": "execute_result"
    }
   ],
   "source": [
    "type_dummies.drop(type_dummies.columns[0], axis=1, inplace=True) #Fire is the baseline\n",
    "type_dummies.sample(n=5, random_state=1)"
   ]
  },
  {
   "cell_type": "code",
   "execution_count": 53,
   "metadata": {},
   "outputs": [],
   "source": [
    "df_new = pd.concat([df_new, type_dummies], axis=1)"
   ]
  },
  {
   "cell_type": "code",
   "execution_count": 54,
   "metadata": {},
   "outputs": [],
   "source": [
    "# Create a dummy column 1/0 for fatalities\n",
    "df_new['fatalities']= df_new['Num_fatalities']>0"
   ]
  },
  {
   "cell_type": "code",
   "execution_count": 55,
   "metadata": {},
   "outputs": [
    {
     "data": {
      "text/html": [
       "<div>\n",
       "<style scoped>\n",
       "    .dataframe tbody tr th:only-of-type {\n",
       "        vertical-align: middle;\n",
       "    }\n",
       "\n",
       "    .dataframe tbody tr th {\n",
       "        vertical-align: top;\n",
       "    }\n",
       "\n",
       "    .dataframe thead th {\n",
       "        text-align: right;\n",
       "    }\n",
       "</style>\n",
       "<table border=\"1\" class=\"dataframe\">\n",
       "  <thead>\n",
       "    <tr style=\"text-align: right;\">\n",
       "      <th></th>\n",
       "      <th>STATE</th>\n",
       "      <th>YEAR</th>\n",
       "      <th>MONTH_NAME</th>\n",
       "      <th>EVENT_TYPE</th>\n",
       "      <th>INJURIES_DIRECT</th>\n",
       "      <th>INJURIES_INDIRECT</th>\n",
       "      <th>MAGNITUDE</th>\n",
       "      <th>Days</th>\n",
       "      <th>Duration</th>\n",
       "      <th>Num_fatalities</th>\n",
       "      <th>...</th>\n",
       "      <th>crop_dam</th>\n",
       "      <th>prop_dam</th>\n",
       "      <th>TYPE_flood_rain</th>\n",
       "      <th>TYPE_heat</th>\n",
       "      <th>TYPE_ocean</th>\n",
       "      <th>TYPE_other</th>\n",
       "      <th>TYPE_tropical</th>\n",
       "      <th>TYPE_wind_dust</th>\n",
       "      <th>TYPE_winter</th>\n",
       "      <th>fatalities</th>\n",
       "    </tr>\n",
       "  </thead>\n",
       "  <tbody>\n",
       "    <tr>\n",
       "      <th>0</th>\n",
       "      <td>NEBRASKA</td>\n",
       "      <td>2018</td>\n",
       "      <td>June</td>\n",
       "      <td>winter</td>\n",
       "      <td>0</td>\n",
       "      <td>0</td>\n",
       "      <td>1.00</td>\n",
       "      <td>1</td>\n",
       "      <td>0</td>\n",
       "      <td>0.0</td>\n",
       "      <td>...</td>\n",
       "      <td>0.0</td>\n",
       "      <td>0.0</td>\n",
       "      <td>0</td>\n",
       "      <td>0</td>\n",
       "      <td>0</td>\n",
       "      <td>0</td>\n",
       "      <td>0</td>\n",
       "      <td>0</td>\n",
       "      <td>1</td>\n",
       "      <td>False</td>\n",
       "    </tr>\n",
       "    <tr>\n",
       "      <th>1</th>\n",
       "      <td>NEBRASKA</td>\n",
       "      <td>2018</td>\n",
       "      <td>June</td>\n",
       "      <td>winter</td>\n",
       "      <td>0</td>\n",
       "      <td>0</td>\n",
       "      <td>1.25</td>\n",
       "      <td>1</td>\n",
       "      <td>0</td>\n",
       "      <td>0.0</td>\n",
       "      <td>...</td>\n",
       "      <td>0.0</td>\n",
       "      <td>0.0</td>\n",
       "      <td>0</td>\n",
       "      <td>0</td>\n",
       "      <td>0</td>\n",
       "      <td>0</td>\n",
       "      <td>0</td>\n",
       "      <td>0</td>\n",
       "      <td>1</td>\n",
       "      <td>False</td>\n",
       "    </tr>\n",
       "    <tr>\n",
       "      <th>2</th>\n",
       "      <td>VERMONT</td>\n",
       "      <td>2018</td>\n",
       "      <td>June</td>\n",
       "      <td>wind_dust</td>\n",
       "      <td>0</td>\n",
       "      <td>0</td>\n",
       "      <td>60.00</td>\n",
       "      <td>1</td>\n",
       "      <td>2</td>\n",
       "      <td>0.0</td>\n",
       "      <td>...</td>\n",
       "      <td>0.0</td>\n",
       "      <td>15.0</td>\n",
       "      <td>0</td>\n",
       "      <td>0</td>\n",
       "      <td>0</td>\n",
       "      <td>0</td>\n",
       "      <td>0</td>\n",
       "      <td>1</td>\n",
       "      <td>0</td>\n",
       "      <td>False</td>\n",
       "    </tr>\n",
       "    <tr>\n",
       "      <th>3</th>\n",
       "      <td>VERMONT</td>\n",
       "      <td>2018</td>\n",
       "      <td>June</td>\n",
       "      <td>wind_dust</td>\n",
       "      <td>0</td>\n",
       "      <td>0</td>\n",
       "      <td>55.00</td>\n",
       "      <td>1</td>\n",
       "      <td>0</td>\n",
       "      <td>0.0</td>\n",
       "      <td>...</td>\n",
       "      <td>0.0</td>\n",
       "      <td>10.0</td>\n",
       "      <td>0</td>\n",
       "      <td>0</td>\n",
       "      <td>0</td>\n",
       "      <td>0</td>\n",
       "      <td>0</td>\n",
       "      <td>1</td>\n",
       "      <td>0</td>\n",
       "      <td>False</td>\n",
       "    </tr>\n",
       "    <tr>\n",
       "      <th>4</th>\n",
       "      <td>NEBRASKA</td>\n",
       "      <td>2018</td>\n",
       "      <td>June</td>\n",
       "      <td>wind_dust</td>\n",
       "      <td>0</td>\n",
       "      <td>0</td>\n",
       "      <td>50.00</td>\n",
       "      <td>1</td>\n",
       "      <td>0</td>\n",
       "      <td>0.0</td>\n",
       "      <td>...</td>\n",
       "      <td>0.0</td>\n",
       "      <td>0.0</td>\n",
       "      <td>0</td>\n",
       "      <td>0</td>\n",
       "      <td>0</td>\n",
       "      <td>0</td>\n",
       "      <td>0</td>\n",
       "      <td>1</td>\n",
       "      <td>0</td>\n",
       "      <td>False</td>\n",
       "    </tr>\n",
       "  </tbody>\n",
       "</table>\n",
       "<p>5 rows × 25 columns</p>\n",
       "</div>"
      ],
      "text/plain": [
       "      STATE  YEAR MONTH_NAME EVENT_TYPE  INJURIES_DIRECT  INJURIES_INDIRECT  \\\n",
       "0  NEBRASKA  2018       June     winter                0                  0   \n",
       "1  NEBRASKA  2018       June     winter                0                  0   \n",
       "2   VERMONT  2018       June  wind_dust                0                  0   \n",
       "3   VERMONT  2018       June  wind_dust                0                  0   \n",
       "4  NEBRASKA  2018       June  wind_dust                0                  0   \n",
       "\n",
       "   MAGNITUDE  Days  Duration  Num_fatalities  ...  crop_dam  prop_dam  \\\n",
       "0       1.00     1         0             0.0  ...       0.0       0.0   \n",
       "1       1.25     1         0             0.0  ...       0.0       0.0   \n",
       "2      60.00     1         2             0.0  ...       0.0      15.0   \n",
       "3      55.00     1         0             0.0  ...       0.0      10.0   \n",
       "4      50.00     1         0             0.0  ...       0.0       0.0   \n",
       "\n",
       "   TYPE_flood_rain  TYPE_heat  TYPE_ocean  TYPE_other  TYPE_tropical  \\\n",
       "0                0          0           0           0              0   \n",
       "1                0          0           0           0              0   \n",
       "2                0          0           0           0              0   \n",
       "3                0          0           0           0              0   \n",
       "4                0          0           0           0              0   \n",
       "\n",
       "   TYPE_wind_dust  TYPE_winter  fatalities  \n",
       "0               0            1       False  \n",
       "1               0            1       False  \n",
       "2               1            0       False  \n",
       "3               1            0       False  \n",
       "4               1            0       False  \n",
       "\n",
       "[5 rows x 25 columns]"
      ]
     },
     "execution_count": 55,
     "metadata": {},
     "output_type": "execute_result"
    }
   ],
   "source": [
    "df_new.head()"
   ]
  },
  {
   "cell_type": "markdown",
   "metadata": {},
   "source": [
    "<a id=\"build-a-classification-model\"></a>\n",
    "## Build and Evaluate a Classification Model"
   ]
  },
  {
   "cell_type": "markdown",
   "metadata": {},
   "source": [
    "I chose to use a Random Forest Classifier model because it is one of the better performing classification models. I excluded year, state, and month variables from the feature columns because the exploratory analysis did not suggest that these variables were particularly significant. "
   ]
  },
  {
   "cell_type": "code",
   "execution_count": 56,
   "metadata": {},
   "outputs": [],
   "source": [
    "from sklearn.ensemble import RandomForestClassifier"
   ]
  },
  {
   "cell_type": "code",
   "execution_count": 57,
   "metadata": {},
   "outputs": [
    {
     "name": "stderr",
     "output_type": "stream",
     "text": [
      "C:\\Users\\allis\\Anaconda3\\envs\\py36\\lib\\site-packages\\sklearn\\ensemble\\forest.py:246: FutureWarning: The default value of n_estimators will change from 10 in version 0.20 to 100 in 0.22.\n",
      "  \"10 in version 0.20 to 100 in 0.22.\", FutureWarning)\n"
     ]
    }
   ],
   "source": [
    "#Instantiate\n",
    "rfc = RandomForestClassifier()\n",
    "\n",
    "#Define X and y\n",
    "feature_cols=['INJURIES_DIRECT', 'INJURIES_INDIRECT', 'MAGNITUDE', 'Days', 'Duration', 'Budget', 'AveragePopn16_18', '3yraverage','PCT18+','POPPCT_URBAN','crop_dam','prop_dam','TYPE_flood_rain','TYPE_heat','TYPE_ocean','TYPE_other','TYPE_tropical','TYPE_wind_dust','TYPE_winter']\n",
    "X = df_new[feature_cols]\n",
    "y = df_new['fatalities']\n",
    "\n",
    "X_train, X_test, y_train, y_test = train_test_split(X, y)\n",
    "\n",
    "# Fit\n",
    "rfc.fit(X_train, y_train)\n",
    "\n",
    "#Predict\n",
    "y_pred = rfc.predict(X_test)"
   ]
  },
  {
   "cell_type": "code",
   "execution_count": 58,
   "metadata": {},
   "outputs": [
    {
     "data": {
      "text/plain": [
       "0.9936115950811807"
      ]
     },
     "execution_count": 58,
     "metadata": {},
     "output_type": "execute_result"
    }
   ],
   "source": [
    "# Check accuracy\n",
    "metrics.accuracy_score(y_test, y_pred)"
   ]
  },
  {
   "cell_type": "code",
   "execution_count": 59,
   "metadata": {},
   "outputs": [],
   "source": [
    "# See which features are most important \n",
    "feature_imp = pd.Series(rfc.feature_importances_, index=feature_cols).sort_values(ascending=False)"
   ]
  },
  {
   "cell_type": "code",
   "execution_count": 60,
   "metadata": {},
   "outputs": [
    {
     "name": "stdout",
     "output_type": "stream",
     "text": [
      "Duration             0.291376\n",
      "prop_dam             0.134231\n",
      "Days                 0.084058\n",
      "INJURIES_DIRECT      0.056581\n",
      "POPPCT_URBAN         0.052862\n",
      "AveragePopn16_18     0.046204\n",
      "3yraverage           0.044935\n",
      "MAGNITUDE            0.044341\n",
      "Budget               0.043600\n",
      "PCT18+               0.042103\n",
      "INJURIES_INDIRECT    0.040787\n",
      "TYPE_ocean           0.028174\n",
      "TYPE_winter          0.017836\n",
      "TYPE_heat            0.016251\n",
      "TYPE_flood_rain      0.015827\n",
      "crop_dam             0.015504\n",
      "TYPE_other           0.009891\n",
      "TYPE_tropical        0.008486\n",
      "TYPE_wind_dust       0.006952\n",
      "dtype: float64\n"
     ]
    }
   ],
   "source": [
    "print(feature_imp)"
   ]
  },
  {
   "cell_type": "code",
   "execution_count": 61,
   "metadata": {},
   "outputs": [],
   "source": [
    "# Cross Validate\n",
    "from sklearn.model_selection import cross_val_score\n",
    "scores = cross_val_score(rfc, X, y, cv=10, scoring='accuracy')\n",
    "mean = cross_val_score(rfc, X, y, cv=10, scoring='accuracy').mean()"
   ]
  },
  {
   "cell_type": "code",
   "execution_count": 62,
   "metadata": {},
   "outputs": [
    {
     "data": {
      "text/plain": [
       "<matplotlib.axes._subplots.AxesSubplot at 0x2aec70cfe10>"
      ]
     },
     "execution_count": 62,
     "metadata": {},
     "output_type": "execute_result"
    },
    {
     "data": {
      "image/png": "[encoded data removed]",
      "text/plain": [
       "<Figure size 432x288 with 1 Axes>"
      ]
     },
     "metadata": {
      "needs_background": "light"
     },
     "output_type": "display_data"
    }
   ],
   "source": [
    "sns.distplot(scores, bins=10)"
   ]
  },
  {
   "cell_type": "code",
   "execution_count": 63,
   "metadata": {},
   "outputs": [
    {
     "data": {
      "text/plain": [
       "0.9925005842326202"
      ]
     },
     "execution_count": 63,
     "metadata": {},
     "output_type": "execute_result"
    }
   ],
   "source": [
    "mean"
   ]
  },
  {
   "cell_type": "markdown",
   "metadata": {},
   "source": [
    "<a id=\"build-a-regression-model\"></a>\n",
    "## Build and Evaluate a Regression Model"
   ]
  },
  {
   "cell_type": "markdown",
   "metadata": {},
   "source": [
    "Using the predicted y values from the classification model, I built a regression model to predict the number of fatalities. "
   ]
  },
  {
   "cell_type": "code",
   "execution_count": 75,
   "metadata": {},
   "outputs": [],
   "source": [
    "# Add y_pred to the dataframe\n",
    "y_predictions = pd.DataFrame({'y_pred': y_pred})\n",
    "df_new = df_new.join(y_predictions)\n",
    "df_new.head()"
   ]
  },
  {
   "cell_type": "code",
   "execution_count": 90,
   "metadata": {},
   "outputs": [],
   "source": [
    "# Create another dataframe consisting only of 'true' y-prediction values, and use it to build the model\n",
    "df_2 = df_new[(df_new['y_pred']==True)]"
   ]
  },
  {
   "cell_type": "code",
   "execution_count": 99,
   "metadata": {},
   "outputs": [
    {
     "data": {
      "text/plain": [
       "(140, 26)"
      ]
     },
     "execution_count": 99,
     "metadata": {},
     "output_type": "execute_result"
    }
   ],
   "source": [
    "df_2.shape"
   ]
  },
  {
   "cell_type": "code",
   "execution_count": 103,
   "metadata": {},
   "outputs": [
    {
     "data": {
      "text/plain": [
       "<matplotlib.axes._subplots.AxesSubplot at 0x2aec1a81828>"
      ]
     },
     "execution_count": 103,
     "metadata": {},
     "output_type": "execute_result"
    },
    {
     "data": {
      "image/png": "[encoded data removed]",
      "text/plain": [
       "<Figure size 432x288 with 2 Axes>"
      ]
     },
     "metadata": {
      "needs_background": "light"
     },
     "output_type": "display_data"
    }
   ],
   "source": [
    "sns.heatmap(df_2.corr())"
   ]
  },
  {
   "cell_type": "markdown",
   "metadata": {},
   "source": [
    "<a id=\"feature-selection\"></a>\n",
    "## Feature Selection for Regression"
   ]
  },
  {
   "cell_type": "code",
   "execution_count": 94,
   "metadata": {},
   "outputs": [],
   "source": [
    "def train_test_rmse(feature_cols):\n",
    "    X_r = df_2[feature_cols]\n",
    "    y_r = df_2['Num_fatalities']\n",
    "    X_train, X_test, y_train, y_test = train_test_split(X_r, y_r, random_state=1)\n",
    "    linreg = LinearRegression()\n",
    "    linreg.fit(X_train, y_train)\n",
    "    y_pred_r = linreg.predict(X_test)\n",
    "    \n",
    "    return np.sqrt(metrics.mean_squared_error(y_test, y_pred_r))"
   ]
  },
  {
   "cell_type": "code",
   "execution_count": 95,
   "metadata": {},
   "outputs": [],
   "source": [
    "cols = ['INJURIES_DIRECT', 'INJURIES_INDIRECT', 'MAGNITUDE', 'Days', 'Budget', 'AveragePopn16_18', '3yraverage', 'PCT18+', 'POPPCT_URBAN', 'crop_dam', 'prop_dam', 'TYPE_flood_rain', 'TYPE_heat', 'TYPE_ocean', 'TYPE_other', 'TYPE_tropical', 'TYPE_wind_dust', 'TYPE_winter']\n",
    "data=[]\n",
    "for i in range(2,6):\n",
    "    all_ = list(combinations(cols, i))\n",
    "    counter = 0\n",
    "    \n",
    "    while counter <= 20: \n",
    "        var = list(random.choice(all_))\n",
    "        rmse=train_test_rmse(var) \n",
    "        data.append({'nfeats':i,'variables':var, 'rmse':rmse}) \n",
    "        counter += 1\n",
    "    \n",
    "experiments = pd.DataFrame.from_records(data)"
   ]
  },
  {
   "cell_type": "code",
   "execution_count": 96,
   "metadata": {},
   "outputs": [
    {
     "data": {
      "text/html": [
       "<div>\n",
       "<style scoped>\n",
       "    .dataframe tbody tr th:only-of-type {\n",
       "        vertical-align: middle;\n",
       "    }\n",
       "\n",
       "    .dataframe tbody tr th {\n",
       "        vertical-align: top;\n",
       "    }\n",
       "\n",
       "    .dataframe thead th {\n",
       "        text-align: right;\n",
       "    }\n",
       "</style>\n",
       "<table border=\"1\" class=\"dataframe\">\n",
       "  <thead>\n",
       "    <tr style=\"text-align: right;\">\n",
       "      <th></th>\n",
       "      <th>nfeats</th>\n",
       "      <th>rmse</th>\n",
       "      <th>variables</th>\n",
       "    </tr>\n",
       "  </thead>\n",
       "  <tbody>\n",
       "    <tr>\n",
       "      <th>36</th>\n",
       "      <td>3</td>\n",
       "      <td>0.038326</td>\n",
       "      <td>[Days, prop_dam, TYPE_ocean]</td>\n",
       "    </tr>\n",
       "    <tr>\n",
       "      <th>73</th>\n",
       "      <td>5</td>\n",
       "      <td>0.038383</td>\n",
       "      <td>[INJURIES_INDIRECT, MAGNITUDE, Days, crop_dam,...</td>\n",
       "    </tr>\n",
       "    <tr>\n",
       "      <th>28</th>\n",
       "      <td>3</td>\n",
       "      <td>0.038462</td>\n",
       "      <td>[INJURIES_DIRECT, TYPE_ocean, TYPE_tropical]</td>\n",
       "    </tr>\n",
       "    <tr>\n",
       "      <th>48</th>\n",
       "      <td>4</td>\n",
       "      <td>0.039474</td>\n",
       "      <td>[INJURIES_INDIRECT, Budget, AveragePopn16_18, ...</td>\n",
       "    </tr>\n",
       "    <tr>\n",
       "      <th>51</th>\n",
       "      <td>4</td>\n",
       "      <td>0.039576</td>\n",
       "      <td>[INJURIES_INDIRECT, AveragePopn16_18, TYPE_oce...</td>\n",
       "    </tr>\n",
       "  </tbody>\n",
       "</table>\n",
       "</div>"
      ],
      "text/plain": [
       "    nfeats      rmse                                          variables\n",
       "36       3  0.038326                       [Days, prop_dam, TYPE_ocean]\n",
       "73       5  0.038383  [INJURIES_INDIRECT, MAGNITUDE, Days, crop_dam,...\n",
       "28       3  0.038462       [INJURIES_DIRECT, TYPE_ocean, TYPE_tropical]\n",
       "48       4  0.039474  [INJURIES_INDIRECT, Budget, AveragePopn16_18, ...\n",
       "51       4  0.039576  [INJURIES_INDIRECT, AveragePopn16_18, TYPE_oce..."
      ]
     },
     "execution_count": 96,
     "metadata": {},
     "output_type": "execute_result"
    }
   ],
   "source": [
    "experiments.sort_values(by='rmse', ascending=True).head()"
   ]
  },
  {
   "cell_type": "code",
   "execution_count": 97,
   "metadata": {},
   "outputs": [
    {
     "data": {
      "text/plain": [
       "['Days', 'prop_dam', 'TYPE_ocean']"
      ]
     },
     "execution_count": 97,
     "metadata": {},
     "output_type": "execute_result"
    }
   ],
   "source": [
    "experiments.sort_values(by='rmse', ascending=True).iloc[0].loc['variables']"
   ]
  },
  {
   "cell_type": "markdown",
   "metadata": {},
   "source": [
    "<a id=\"regression-model\"></a>\n",
    "## The Regression Model"
   ]
  },
  {
   "cell_type": "code",
   "execution_count": 117,
   "metadata": {},
   "outputs": [],
   "source": [
    "feature_cols =['Days', 'prop_dam', 'TYPE_ocean'] \n",
    "X = df_2[feature_cols]\n",
    "y = df_2['Num_fatalities']\n",
    "\n",
    "linreg=LinearRegression()\n",
    "linreg.fit(X, y)\n",
    "y_predr = linreg.predict(X)"
   ]
  },
  {
   "cell_type": "code",
   "execution_count": 118,
   "metadata": {},
   "outputs": [
    {
     "name": "stdout",
     "output_type": "stream",
     "text": [
      "0.027612243283440564\n",
      "[ 1.56262897e-03 -9.23679849e-04  9.70825128e-01]\n"
     ]
    }
   ],
   "source": [
    "print(linreg.intercept_)\n",
    "print(linreg.coef_)"
   ]
  },
  {
   "cell_type": "markdown",
   "metadata": {},
   "source": [
    "### Compare against null RMSE"
   ]
  },
  {
   "cell_type": "code",
   "execution_count": 104,
   "metadata": {},
   "outputs": [
    {
     "data": {
      "text/plain": [
       "0.1665986255670086"
      ]
     },
     "execution_count": 104,
     "metadata": {},
     "output_type": "execute_result"
    }
   ],
   "source": [
    "# Calculate null RMSE\n",
    "X_train, X_test, y_train, y_test = train_test_split(X, y, random_state=123)\n",
    "y_null = np.zeros_like(y_test, dtype=float) \n",
    "y_null.fill(y_test.mean())\n",
    "np.sqrt(metrics.mean_squared_error(y_test, y_null))"
   ]
  },
  {
   "cell_type": "markdown",
   "metadata": {},
   "source": [
    "**Compare with test RMSE**\n",
    "\n",
    "The Test RMSE was 0.038326, which is less than the null RMSE. Therefore, the model is more efficient at predicting the number of fatalities than a model which predicts the average number of fatalities each time. "
   ]
  },
  {
   "cell_type": "markdown",
   "metadata": {},
   "source": [
    "<a id=\"interpret-coefficients\"></a>\n",
    "## Interpret Coefficients\n",
    "\n",
    "Holding the other variables constant, on average, \n",
    " - for each day of an extreme weather event, the number of fatalities increases by 0.00156. \n",
    " - for an increase of 1,000 USD in property damage, the number of fatalities decreases by 0.00092. This seems counterintuitive, but it may be that areas experiencing more property damage also have more property/infrastructure in general, including shelters and hospitals. \n",
    " - if the event is in the 'ocean' category, the number of fatalities increases by 0.97 compared to extreme events in the 'fire' baseline category. "
   ]
  },
  {
   "cell_type": "markdown",
   "metadata": {},
   "source": [
    "<a id=\"conclusions\"></a>\n",
    "## Conclusions and Summary"
   ]
  },
  {
   "cell_type": "markdown",
   "metadata": {},
   "source": [
    "From the NOAA dataset of extreme weather events and fatalities, I compiled a larger dataset with additional features. The problem statement was to determine whether there was an association between extreme weather event and location characteristics, and the number of fatalities. I decided to take a two-fold approach. First, I used a classification model to predict whether or not an extreme weather event resulted in fatalities. Then, of the events that resulted in fatalities, I used a regression model to predict the number of fatalities. \n",
    "\n",
    "I chose the Random Forests Classifier model because of its best-in-class performance compared to other classification models such as KNN and Decision Trees. The model indicated that the top three features that are most influential on whether or not an extreme weather event results in fatalities are:  Duration, Property Damage, and Days. \n",
    "\n",
    "The Linear Regression model suggests that the feature variables that result in the lowest root mean squared error (RMSE) are: days, property damage, and event type-ocean. This means that these variables are most accurate in predicting the number of fatalities from extreme weather events. "
   ]
  }
 ],
 "metadata": {
  "kernelspec": {
   "display_name": "Python 3",
   "language": "python",
   "name": "python3"
  },
  "language_info": {
   "codemirror_mode": {
    "name": "ipython",
    "version": 3
   },
   "file_extension": ".py",
   "mimetype": "text/x-python",
   "name": "python",
   "nbconvert_exporter": "python",
   "pygments_lexer": "ipython3",
   "version": "3.6.8"
  }
 },
 "nbformat": 4,
 "nbformat_minor": 2
}
